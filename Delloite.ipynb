{
 "cells": [
  {
   "cell_type": "code",
   "execution_count": 2,
   "id": "95136737-1ab3-4a64-9e49-03c8ca385745",
   "metadata": {},
   "outputs": [
    {
     "name": "stdout",
     "output_type": "stream",
     "text": [
      "   Unnamed: 0        date                                           location  \\\n",
      "0         0.0  18/08/2021   950 Rebecca Ranch Suite 170\\nNew Scott, NH 81801   \n",
      "1         1.0  08/06/2021  55068 Kyle Centers\\nNorth Jenniferhaven, HI 44276   \n",
      "2         2.0  01/08/2021            60517 Richard Lake\\nLake Lori, NJ 37360   \n",
      "3         3.0  03/08/2021             829 Cox Ferry\\nNicholasshire, VA 23634   \n",
      "4         4.0  10/08/2021             940 Odom Lodge\\nTimothyburgh, AZ 75746   \n",
      "\n",
      "        IP address                       component            interaction  \\\n",
      "0   165.61.147.242                mongodb database                  other   \n",
      "1    159.146.10.26  sap shipping management system  invalid SAP unit code   \n",
      "2    129.94.76.202  sap shipping management system           server error   \n",
      "3     49.137.245.5               django controller      HTTP 401 response   \n",
      "4  172.200.143.223                    ios frontend                dormant   \n",
      "\n",
      "   duration  downtime  Downtime Percentage  \n",
      "0     16.90     13.89               82.189  \n",
      "1     80.96      0.00                0.000  \n",
      "2     49.47      0.00                0.000  \n",
      "3      2.56      0.00                0.000  \n",
      "4     47.26      0.00                0.000  \n"
     ]
    }
   ],
   "source": [
    "import pandas as pd\n",
    "\n",
    "# Load the dataset (assuming it’s a CSV file)\n",
    "df = pd.read_csv('Measurements Dataset.csv')\n",
    "\n",
    "# Inspect the first few rows\n",
    "print(df.head())"
   ]
  },
  {
   "cell_type": "code",
   "execution_count": 3,
   "id": "a6c2a397-a9d5-4d15-9cdc-2abab8eee45c",
   "metadata": {},
   "outputs": [
    {
     "name": "stdout",
     "output_type": "stream",
     "text": [
      "              component  Downtime Percentage  risk_rank\n",
      "5129   mongodb database              313.876        1.0\n",
      "134   shipping database              311.441        2.0\n",
      "4658       web frontend              311.194        3.0\n",
      "3270   mongodb database              304.776        4.0\n",
      "5118  shipping database              304.005        5.0\n"
     ]
    }
   ],
   "source": [
    "# Assuming 'component' is the column identifying components in your dataset\n",
    "\n",
    "# Rank components based on downtime percentage in descending order\n",
    "df['risk_rank'] = df['Downtime Percentage'].rank(ascending=False, method='dense')\n",
    "\n",
    "# Sort the dataframe by the rank\n",
    "df_sorted = df.sort_values('risk_rank', ascending=True)\n",
    "\n",
    "# Display the components ranked by risk\n",
    "print(df_sorted[['component', 'Downtime Percentage', 'risk_rank']].head())\n"
   ]
  },
  {
   "cell_type": "code",
   "execution_count": 22,
   "id": "e88ec012-f840-43a4-8b60-a2eea6e95d78",
   "metadata": {},
   "outputs": [
    {
     "name": "stdout",
     "output_type": "stream",
     "text": [
      "                        component  average_downtime_percentage\n",
      "0                       ai engine                    79.101665\n",
      "7               shipping database                    78.999208\n",
      "5                mongodb database                    78.884415\n",
      "4                    ios frontend                    41.455751\n",
      "3               django controller                    41.043795\n",
      "1                android frontend                    39.889761\n",
      "8                    web frontend                    39.053063\n",
      "2               customer database                    38.232595\n",
      "6  sap shipping management system                    36.303810\n"
     ]
    }
   ],
   "source": [
    "import pandas as pd\n",
    "\n",
    "# Calculate the average downtime percentage for each component\n",
    "average_downtime = df.groupby('component')['Downtime Percentage'].mean().reset_index()\n",
    "\n",
    "# Rename the column for better clarity\n",
    "average_downtime = average_downtime.rename(columns={'Downtime Percentage': 'average_downtime_percentage'})\n",
    "\n",
    "# Sort the components by average downtime percentage in descending order\n",
    "average_downtime_sorted = average_downtime.sort_values(by='average_downtime_percentage', ascending=False)\n",
    "\n",
    "# Display the result\n",
    "print(average_downtime_sorted)\n",
    "\n"
   ]
  },
  {
   "cell_type": "code",
   "execution_count": 28,
   "id": "b0636187-795c-4ba2-bac4-7b13c28fc20b",
   "metadata": {},
   "outputs": [],
   "source": [
    "# Save the ranked average downtime percentage back to a CSV file\n",
    "average_downtime_sorted.to_csv('UPDATEd.csv', index=False)\n",
    "\n",
    "# This will save the DataFrame to a CSV file named 'updated_dataset.csv' without including row numbers.\n"
   ]
  },
  {
   "cell_type": "code",
   "execution_count": null,
   "id": "4b2c9e30-8932-4a7d-a8ef-ef41ce127039",
   "metadata": {},
   "outputs": [],
   "source": []
  }
 ],
 "metadata": {
  "kernelspec": {
   "display_name": "Python 3 (ipykernel)",
   "language": "python",
   "name": "python3"
  },
  "language_info": {
   "codemirror_mode": {
    "name": "ipython",
    "version": 3
   },
   "file_extension": ".py",
   "mimetype": "text/x-python",
   "name": "python",
   "nbconvert_exporter": "python",
   "pygments_lexer": "ipython3",
   "version": "3.9.13"
  }
 },
 "nbformat": 4,
 "nbformat_minor": 5
}
